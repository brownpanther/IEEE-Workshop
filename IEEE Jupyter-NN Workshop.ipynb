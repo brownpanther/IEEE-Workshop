{
 "cells": [
  {
   "cell_type": "markdown",
   "metadata": {},
   "source": [
    "### Import the dataset\n",
    "The Boston Housing dataset is built into keras so we can easily import it"
   ]
  },
  {
   "cell_type": "code",
   "execution_count": 86,
   "metadata": {},
   "outputs": [],
   "source": [
    "from keras.datasets import boston_housing\n",
    "(train_data, train_targets), (test_data, test_targets) = boston_housing.load_data()"
   ]
  },
  {
   "cell_type": "markdown",
   "metadata": {
    "collapsed": true
   },
   "source": [
    "### Check the data sizes "
   ]
  },
  {
   "cell_type": "code",
   "execution_count": 87,
   "metadata": {},
   "outputs": [
    {
     "name": "stdout",
     "output_type": "stream",
     "text": [
      "There are 404 examples/rows and 13 features/columns in the training set\n"
     ]
    }
   ],
   "source": [
    "rows, cols = train_data.shape\n",
    "print(\"There are \" +str(rows) + \" examples/rows and \" + str(cols) + \" features/columns in the training set\")"
   ]
  },
  {
   "cell_type": "markdown",
   "metadata": {},
   "source": [
    "### Preprocess the data by Z-score normalization\n",
    "In this way, the gradients will not become too large or too small and vanish\n",
    "So we will subtract the mean and divide by the standard deviation"
   ]
  },
  {
   "cell_type": "code",
   "execution_count": 88,
   "metadata": {},
   "outputs": [],
   "source": [
    "mean = train_data.mean(axis=0)\n",
    "train_data -= mean\n",
    "std = train_data.std(axis=0)\n",
    "train_data /= std\n",
    "test_data -= mean\n",
    "test_data /= std"
   ]
  },
  {
   "cell_type": "code",
   "execution_count": 89,
   "metadata": {},
   "outputs": [
    {
     "name": "stdout",
     "output_type": "stream",
     "text": [
      "mean of the processed train data is: 2.602301889250862e-15\n",
      "std of the processed train data is: 0.9999999999999994\n"
     ]
    }
   ],
   "source": [
    "# Check to see the normalized data\n",
    "import numpy as np\n",
    "print(\"mean of the processed train data is: \" + str(np.mean(train_data)))\n",
    "print(\"std of the processed train data is: \" + str(np.std(train_data)))"
   ]
  },
  {
   "cell_type": "markdown",
   "metadata": {},
   "source": [
    "### Build the neural network \n",
    "The architecture we've chosen to use has 3 layers.\n",
    "<br>The first hidden layer has 64 neurons. \n",
    "<br> The second hidden layer has 64 neurons. \n",
    "<br>The output layer is just one neuron and no activations because we want to predict a real number\n",
    "\n",
    "The loss function is the Mean Squared Error and we are optimizing it with RMSPROP. \n",
    "<br> We will monitor the minimization of the error by looking at the Mean Absolute Error everytime. \n",
    "<br> Check out the [Keras](https://faroit.github.io/keras-docs/0.2.0/optimizers/) documentation for various optimizers and default parameters."
   ]
  },
  {
   "cell_type": "code",
   "execution_count": 104,
   "metadata": {},
   "outputs": [],
   "source": [
    "from keras.models import Sequential\n",
    "from keras.layers import Dense, Activation\n",
    "\n",
    "def build_model():\n",
    "    model = Sequential()\n",
    "    model.add(Dense(64, activation='relu',input_shape=(train_data.shape[1],)))\n",
    "    model.add(Dense(64, activation='relu'))\n",
    "    model.add(Dense(1))\n",
    "    \n",
    "    model.compile(optimizer='rmsprop', loss='mse', metrics=['mae'])\n",
    "    return model"
   ]
  },
  {
   "cell_type": "markdown",
   "metadata": {},
   "source": [
    "### Let's build the model "
   ]
  },
  {
   "cell_type": "code",
   "execution_count": 130,
   "metadata": {},
   "outputs": [],
   "source": [
    "model = build_model()\n",
    "history = model.fit(train_data,train_targets, validation_split=0.2, batch_size=64, epochs=500, verbose=0)\n",
    "# If you don't want to see how the model is doing as it's training, change verbose=0"
   ]
  },
  {
   "cell_type": "code",
   "execution_count": 131,
   "metadata": {},
   "outputs": [
    {
     "data": {
      "image/png": "[encoded data removed]",
      "text/plain": [
       "<Figure size 432x288 with 1 Axes>"
      ]
     },
     "metadata": {},
     "output_type": "display_data"
    }
   ],
   "source": [
    "import matplotlib.pyplot as plt\n",
    "train_loss = history.history['mean_absolute_error']\n",
    "val_loss = history.history['val_mean_absolute_error']\n",
    "epochs = range(1, len(train_loss) + 1)\n",
    "plt.plot(epochs, train_loss, label='Training loss')\n",
    "plt.plot(epochs, val_loss, label='Validation loss')\n",
    "\n",
    "plt.legend()\n",
    "plt.title('Training Loss')\n",
    "plt.xlabel('Epochs')\n",
    "plt.ylabel('MAE')\n",
    "plt.show()\n"
   ]
  },
  {
   "cell_type": "code",
   "execution_count": 117,
   "metadata": {},
   "outputs": [
    {
     "name": "stdout",
     "output_type": "stream",
     "text": [
      "102/102 [==============================] - 0s 216us/step\n",
      "The error on the test set is:  3.0749860277362897\n",
      "This means we are off by $ 3074.9860277362895\n"
     ]
    }
   ],
   "source": [
    "test_mse_score, test_mae_score = model.evaluate(test_data, test_targets)\n",
    "print(\"The error on the test set is: \", test_mae_score)\n",
    "print(\"This means our predictions are off by $\", test_mae_score*1000)"
   ]
  },
  {
   "cell_type": "markdown",
   "metadata": {},
   "source": [
    "### Things to take away \n",
    "MSE is commonly used for regression \n",
    "<br>MAE is a common regression metric to evaluate performance \n",
    "<br>When features in the dataset are of different ranges, it is helpful to normalize each feature as a preprocessing step\n",
    "<br>When little data is available, it is typically better to use few hidden layers to avoid overfitting"
   ]
  },
  {
   "cell_type": "code",
   "execution_count": null,
   "metadata": {},
   "outputs": [],
   "source": []
  }
 ],
 "metadata": {
  "kernelspec": {
   "display_name": "Python 3",
   "language": "python",
   "name": "python3"
  },
  "language_info": {
   "codemirror_mode": {
    "name": "ipython",
    "version": 3
   },
   "file_extension": ".py",
   "mimetype": "text/x-python",
   "name": "python",
   "nbconvert_exporter": "python",
   "pygments_lexer": "ipython3",
   "version": "3.5.5"
  }
 },
 "nbformat": 4,
 "nbformat_minor": 2
}
