{
 "cells": [
  {
   "cell_type": "markdown",
   "metadata": {},
   "source": [
    "### Import the dataset\n",
    "It is built into keras so we can easily import"
   ]
  },
  {
   "cell_type": "code",
   "execution_count": 86,
   "metadata": {},
   "outputs": [],
   "source": [
    "from keras.datasets import boston_housing\n",
    "(train_data, train_targets), (test_data, test_targets) = boston_housing.load_data()"
   ]
  },
  {
   "cell_type": "markdown",
   "metadata": {
    "collapsed": true
   },
   "source": [
    "### Check the data sizes "
   ]
  },
  {
   "cell_type": "code",
   "execution_count": 87,
   "metadata": {},
   "outputs": [
    {
     "name": "stdout",
     "output_type": "stream",
     "text": [
      "There are 404 examples/rows and 13 features/columns in the training set\n"
     ]
    }
   ],
   "source": [
    "rows, cols = train_data.shape\n",
    "print(\"There are \" +str(rows) + \" examples/rows and \" + str(cols) + \" features/columns in the training set\")"
   ]
  },
  {
   "cell_type": "markdown",
   "metadata": {},
   "source": [
    "### Preprocess the data by Z-score normalization\n",
    "In this way, the gradients will not become too large or too small and vanish\n",
    "So we will subtract the mean and divide by the standard deviation"
   ]
  },
  {
   "cell_type": "code",
   "execution_count": 88,
   "metadata": {},
   "outputs": [],
   "source": [
    "mean = train_data.mean(axis=0)\n",
    "train_data -= mean\n",
    "std = train_data.std(axis=0)\n",
    "train_data /= std\n",
    "test_data -= mean\n",
    "test_data /= std"
   ]
  },
  {
   "cell_type": "code",
   "execution_count": 89,
   "metadata": {},
   "outputs": [
    {
     "name": "stdout",
     "output_type": "stream",
     "text": [
      "mean of the processed train data is: 2.602301889250862e-15\n",
      "std of the processed train data is: 0.9999999999999994\n"
     ]
    }
   ],
   "source": [
    "import numpy as np\n",
    "print(\"mean of the processed train data is: \" + str(np.mean(train_data)))\n",
    "print(\"std of the processed train data is: \" + str(np.std(train_data)))"
   ]
  },
  {
   "cell_type": "markdown",
   "metadata": {},
   "source": [
    "### Build the neural network \n",
    "The architecture we've chosen to use has 3 layers.\n",
    "<br>The first hidden layer has 64 neurons. \n",
    "<br> The second hidden layer has 64 neurons. \n",
    "<br>The output layer is just one neuron and no activations because we want to predict a real number\n",
    "\n",
    "The loss function is the Mean Squared Error and we are optimizing it with RMSPROP. \n",
    "<br> We will monitor the minimization of the error by looking at the Mean Absolute Error everytime. \n",
    "<br> Check out the [Keras](https://faroit.github.io/keras-docs/0.2.0/optimizers/) documentation for various optimizers and default parameters."
   ]
  },
  {
   "cell_type": "code",
   "execution_count": 104,
   "metadata": {},
   "outputs": [],
   "source": [
    "from keras.models import Sequential\n",
    "from keras.layers import Dense, Activation\n",
    "\n",
    "def build_model():\n",
    "    model = Sequential()\n",
    "    model.add(Dense(64, activation='relu',input_shape=(train_data.shape[1],)))\n",
    "    model.add(Dense(64, activation='relu'))\n",
    "    model.add(Dense(1))\n",
    "    \n",
    "    model.compile(optimizer='rmsprop', loss='mse', metrics=['mae'])\n",
    "    return model"
   ]
  },
  {
   "cell_type": "markdown",
   "metadata": {},
   "source": [
    "### Let's build the model "
   ]
  },
  {
   "cell_type": "code",
   "execution_count": 105,
   "metadata": {},
   "outputs": [
    {
     "name": "stdout",
     "output_type": "stream",
     "text": [
      "Epoch 1/80\n",
      "404/404 [==============================] - 0s 974us/step - loss: 507.1620 - mean_absolute_error: 20.6547\n",
      "Epoch 2/80\n",
      "404/404 [==============================] - 0s 128us/step - loss: 334.8835 - mean_absolute_error: 16.0584\n",
      "Epoch 3/80\n",
      "404/404 [==============================] - 0s 163us/step - loss: 162.9401 - mean_absolute_error: 10.1049\n",
      "Epoch 4/80\n",
      "404/404 [==============================] - 0s 141us/step - loss: 79.8484 - mean_absolute_error: 6.5115\n",
      "Epoch 5/80\n",
      "404/404 [==============================] - 0s 128us/step - loss: 50.0214 - mean_absolute_error: 5.2190\n",
      "Epoch 6/80\n",
      "404/404 [==============================] - 0s 187us/step - loss: 33.2833 - mean_absolute_error: 4.1909\n",
      "Epoch 7/80\n",
      "404/404 [==============================] - 0s 175us/step - loss: 24.7300 - mean_absolute_error: 3.5018\n",
      "Epoch 8/80\n",
      "404/404 [==============================] - 0s 206us/step - loss: 21.3383 - mean_absolute_error: 3.2762\n",
      "Epoch 9/80\n",
      "404/404 [==============================] - 0s 171us/step - loss: 19.0313 - mean_absolute_error: 3.0870\n",
      "Epoch 10/80\n",
      "404/404 [==============================] - 0s 188us/step - loss: 16.9901 - mean_absolute_error: 2.9328\n",
      "Epoch 11/80\n",
      "404/404 [==============================] - 0s 228us/step - loss: 16.1035 - mean_absolute_error: 2.8090\n",
      "Epoch 12/80\n",
      "404/404 [==============================] - 0s 177us/step - loss: 14.9513 - mean_absolute_error: 2.7494\n",
      "Epoch 13/80\n",
      "404/404 [==============================] - 0s 161us/step - loss: 14.0437 - mean_absolute_error: 2.6261\n",
      "Epoch 14/80\n",
      "404/404 [==============================] - 0s 167us/step - loss: 13.3212 - mean_absolute_error: 2.5884\n",
      "Epoch 15/80\n",
      "404/404 [==============================] - 0s 156us/step - loss: 12.8000 - mean_absolute_error: 2.5019\n",
      "Epoch 16/80\n",
      "404/404 [==============================] - 0s 170us/step - loss: 12.4470 - mean_absolute_error: 2.5039\n",
      "Epoch 17/80\n",
      "404/404 [==============================] - 0s 186us/step - loss: 11.9751 - mean_absolute_error: 2.4569\n",
      "Epoch 18/80\n",
      "404/404 [==============================] - 0s 172us/step - loss: 11.7346 - mean_absolute_error: 2.4266\n",
      "Epoch 19/80\n",
      "404/404 [==============================] - 0s 170us/step - loss: 11.5054 - mean_absolute_error: 2.4022\n",
      "Epoch 20/80\n",
      "404/404 [==============================] - 0s 188us/step - loss: 10.9518 - mean_absolute_error: 2.3575\n",
      "Epoch 21/80\n",
      "404/404 [==============================] - 0s 165us/step - loss: 10.6548 - mean_absolute_error: 2.3119\n",
      "Epoch 22/80\n",
      "404/404 [==============================] - 0s 173us/step - loss: 10.4683 - mean_absolute_error: 2.2994\n",
      "Epoch 23/80\n",
      "404/404 [==============================] - 0s 160us/step - loss: 10.1333 - mean_absolute_error: 2.2873\n",
      "Epoch 24/80\n",
      "404/404 [==============================] - 0s 170us/step - loss: 10.1246 - mean_absolute_error: 2.2351\n",
      "Epoch 25/80\n",
      "404/404 [==============================] - 0s 152us/step - loss: 10.0036 - mean_absolute_error: 2.2455\n",
      "Epoch 26/80\n",
      "404/404 [==============================] - 0s 155us/step - loss: 9.8846 - mean_absolute_error: 2.2190\n",
      "Epoch 27/80\n",
      "404/404 [==============================] - 0s 187us/step - loss: 9.5108 - mean_absolute_error: 2.1465\n",
      "Epoch 28/80\n",
      "404/404 [==============================] - 0s 150us/step - loss: 9.4155 - mean_absolute_error: 2.1643\n",
      "Epoch 29/80\n",
      "404/404 [==============================] - 0s 182us/step - loss: 9.2094 - mean_absolute_error: 2.1465\n",
      "Epoch 30/80\n",
      "404/404 [==============================] - 0s 154us/step - loss: 9.4175 - mean_absolute_error: 2.1538\n",
      "Epoch 31/80\n",
      "404/404 [==============================] - 0s 176us/step - loss: 9.0405 - mean_absolute_error: 2.1379\n",
      "Epoch 32/80\n",
      "404/404 [==============================] - 0s 146us/step - loss: 9.0622 - mean_absolute_error: 2.1169\n",
      "Epoch 33/80\n",
      "404/404 [==============================] - 0s 146us/step - loss: 9.0216 - mean_absolute_error: 2.1291\n",
      "Epoch 34/80\n",
      "404/404 [==============================] - 0s 157us/step - loss: 8.7419 - mean_absolute_error: 2.1023\n",
      "Epoch 35/80\n",
      "404/404 [==============================] - 0s 152us/step - loss: 8.7167 - mean_absolute_error: 2.0752\n",
      "Epoch 36/80\n",
      "404/404 [==============================] - 0s 207us/step - loss: 8.7845 - mean_absolute_error: 2.0743\n",
      "Epoch 37/80\n",
      "404/404 [==============================] - 0s 150us/step - loss: 8.4949 - mean_absolute_error: 2.0439\n",
      "Epoch 38/80\n",
      "404/404 [==============================] - 0s 154us/step - loss: 8.5229 - mean_absolute_error: 2.0648\n",
      "Epoch 39/80\n",
      "404/404 [==============================] - 0s 149us/step - loss: 8.2284 - mean_absolute_error: 2.0182\n",
      "Epoch 40/80\n",
      "404/404 [==============================] - 0s 149us/step - loss: 8.1397 - mean_absolute_error: 2.0151\n",
      "Epoch 41/80\n",
      "404/404 [==============================] - 0s 128us/step - loss: 8.2789 - mean_absolute_error: 2.0020\n",
      "Epoch 42/80\n",
      "404/404 [==============================] - 0s 159us/step - loss: 8.0878 - mean_absolute_error: 2.0023\n",
      "Epoch 43/80\n",
      "404/404 [==============================] - 0s 165us/step - loss: 7.9805 - mean_absolute_error: 1.9870\n",
      "Epoch 44/80\n",
      "404/404 [==============================] - 0s 121us/step - loss: 8.0147 - mean_absolute_error: 1.9957\n",
      "Epoch 45/80\n",
      "404/404 [==============================] - 0s 135us/step - loss: 7.9123 - mean_absolute_error: 1.9790\n",
      "Epoch 46/80\n",
      "404/404 [==============================] - 0s 118us/step - loss: 7.7741 - mean_absolute_error: 1.9508\n",
      "Epoch 47/80\n",
      "404/404 [==============================] - 0s 173us/step - loss: 7.8481 - mean_absolute_error: 1.9631\n",
      "Epoch 48/80\n",
      "404/404 [==============================] - 0s 149us/step - loss: 7.5937 - mean_absolute_error: 1.9349\n",
      "Epoch 49/80\n",
      "404/404 [==============================] - 0s 146us/step - loss: 7.6388 - mean_absolute_error: 1.9098\n",
      "Epoch 50/80\n",
      "404/404 [==============================] - 0s 126us/step - loss: 7.4560 - mean_absolute_error: 1.9041\n",
      "Epoch 51/80\n",
      "404/404 [==============================] - 0s 185us/step - loss: 7.6297 - mean_absolute_error: 1.9543\n",
      "Epoch 52/80\n",
      "404/404 [==============================] - 0s 105us/step - loss: 7.5857 - mean_absolute_error: 1.9204\n",
      "Epoch 53/80\n",
      "404/404 [==============================] - 0s 192us/step - loss: 7.4856 - mean_absolute_error: 1.9134\n",
      "Epoch 54/80\n",
      "404/404 [==============================] - 0s 172us/step - loss: 7.1085 - mean_absolute_error: 1.8901\n",
      "Epoch 55/80\n",
      "404/404 [==============================] - 0s 135us/step - loss: 7.4434 - mean_absolute_error: 1.9124\n",
      "Epoch 56/80\n",
      "404/404 [==============================] - 0s 136us/step - loss: 7.3385 - mean_absolute_error: 1.9130\n",
      "Epoch 57/80\n",
      "404/404 [==============================] - 0s 191us/step - loss: 7.1776 - mean_absolute_error: 1.8779\n",
      "Epoch 58/80\n",
      "404/404 [==============================] - 0s 201us/step - loss: 7.0876 - mean_absolute_error: 1.8620\n",
      "Epoch 59/80\n",
      "404/404 [==============================] - 0s 159us/step - loss: 7.0329 - mean_absolute_error: 1.8398\n",
      "Epoch 60/80\n",
      "404/404 [==============================] - 0s 149us/step - loss: 7.0361 - mean_absolute_error: 1.8756\n",
      "Epoch 61/80\n",
      "404/404 [==============================] - 0s 145us/step - loss: 6.9060 - mean_absolute_error: 1.8205\n",
      "Epoch 62/80\n",
      "404/404 [==============================] - 0s 154us/step - loss: 6.8282 - mean_absolute_error: 1.8217\n",
      "Epoch 63/80\n",
      "404/404 [==============================] - 0s 157us/step - loss: 6.6448 - mean_absolute_error: 1.8356\n",
      "Epoch 64/80\n",
      "404/404 [==============================] - 0s 150us/step - loss: 6.6418 - mean_absolute_error: 1.8105\n",
      "Epoch 65/80\n",
      "404/404 [==============================] - 0s 154us/step - loss: 6.5684 - mean_absolute_error: 1.7739\n",
      "Epoch 66/80\n",
      "404/404 [==============================] - 0s 156us/step - loss: 6.6456 - mean_absolute_error: 1.8318\n",
      "Epoch 67/80\n",
      "404/404 [==============================] - 0s 134us/step - loss: 6.6208 - mean_absolute_error: 1.7946\n",
      "Epoch 68/80\n",
      "404/404 [==============================] - 0s 150us/step - loss: 6.5381 - mean_absolute_error: 1.7923\n",
      "Epoch 69/80\n",
      "404/404 [==============================] - 0s 146us/step - loss: 6.5681 - mean_absolute_error: 1.7987\n",
      "Epoch 70/80\n",
      "404/404 [==============================] - 0s 159us/step - loss: 6.4618 - mean_absolute_error: 1.7933\n",
      "Epoch 71/80\n",
      "404/404 [==============================] - 0s 160us/step - loss: 6.4490 - mean_absolute_error: 1.7766\n",
      "Epoch 72/80\n"
     ]
    },
    {
     "name": "stdout",
     "output_type": "stream",
     "text": [
      "404/404 [==============================] - 0s 128us/step - loss: 6.3741 - mean_absolute_error: 1.7546\n",
      "Epoch 73/80\n",
      "404/404 [==============================] - 0s 124us/step - loss: 6.3351 - mean_absolute_error: 1.8106\n",
      "Epoch 74/80\n",
      "404/404 [==============================] - 0s 160us/step - loss: 6.1891 - mean_absolute_error: 1.7401\n",
      "Epoch 75/80\n",
      "404/404 [==============================] - 0s 227us/step - loss: 6.2123 - mean_absolute_error: 1.7760\n",
      "Epoch 76/80\n",
      "404/404 [==============================] - 0s 197us/step - loss: 6.1492 - mean_absolute_error: 1.7426\n",
      "Epoch 77/80\n",
      "404/404 [==============================] - 0s 218us/step - loss: 6.2090 - mean_absolute_error: 1.7330\n",
      "Epoch 78/80\n",
      "404/404 [==============================] - 0s 157us/step - loss: 5.9969 - mean_absolute_error: 1.7167\n",
      "Epoch 79/80\n",
      "404/404 [==============================] - 0s 149us/step - loss: 6.1365 - mean_absolute_error: 1.7135\n",
      "Epoch 80/80\n",
      "404/404 [==============================] - 0s 193us/step - loss: 6.1419 - mean_absolute_error: 1.7465\n"
     ]
    }
   ],
   "source": [
    "model = build_model()\n",
    "history = model.fit(train_data,train_targets, batch_size=16, epochs=80, verbose=1)\n",
    "# If you don't want to see how the model is doing as it's training, change verbose=0"
   ]
  },
  {
   "cell_type": "code",
   "execution_count": 106,
   "metadata": {},
   "outputs": [
    {
     "data": {
      "image/png": "[encoded data removed]",
      "text/plain": [
       "<Figure size 432x288 with 1 Axes>"
      ]
     },
     "metadata": {},
     "output_type": "display_data"
    }
   ],
   "source": [
    "import matplotlib.pyplot as plt\n",
    "loss = history.history['mean_absolute_error']\n",
    "epochs = range(1, len(loss) + 1)\n",
    "plt.plot(epochs, loss, label='Training loss')\n",
    "plt.title('Training Loss')\n",
    "plt.xlabel('Epochs')\n",
    "plt.ylabel('MAE')\n",
    "plt.show()\n"
   ]
  },
  {
   "cell_type": "code",
   "execution_count": 107,
   "metadata": {},
   "outputs": [
    {
     "name": "stdout",
     "output_type": "stream",
     "text": [
      "102/102 [==============================] - 0s 2ms/step\n",
      "The error on the test set is:  18.545385921702664\n",
      "This means we are off by $ 18545.385921702666\n"
     ]
    }
   ],
   "source": [
    "test_mse_score, test_mae_score = model.evaluate(test_data, test_targets)\n",
    "print(\"The error on the test set is: \", test_mse_score)\n",
    "print(\"This means we are off by $\", test_mse_score*1000)"
   ]
  },
  {
   "cell_type": "markdown",
   "metadata": {},
   "source": [
    "### Our model sucks!\n",
    "It will make predictions that are off by $ 10,000 which is bad considering that prices of houses are in the 10,000s. \n",
    "<br> Let's try training with a validation set!\n",
    "<img src=\"val.png\"> "
   ]
  },
  {
   "cell_type": "code",
   "execution_count": 95,
   "metadata": {},
   "outputs": [],
   "source": [
    "k = 4\n",
    "num_val_samples = len(train_data) // k\n",
    "num_epochs = 100\n",
    "all_scores = []"
   ]
  },
  {
   "cell_type": "code",
   "execution_count": 109,
   "metadata": {
    "scrolled": true
   },
   "outputs": [
    {
     "name": "stdout",
     "output_type": "stream",
     "text": [
      "processing fold # 0\n",
      "101/101 [==============================] - 0s 2ms/step\n",
      "processing fold # 1\n",
      "101/101 [==============================] - 0s 3ms/step\n",
      "processing fold # 2\n",
      "101/101 [==============================] - 0s 3ms/step\n",
      "processing fold # 3\n",
      "101/101 [==============================] - 0s 2ms/step\n"
     ]
    }
   ],
   "source": [
    "for i in range(k):\n",
    "    print('processing fold #', i)\n",
    "    val_data = train_data[i * num_val_samples: (i + 1) * num_val_samples]\n",
    "    val_targets = train_targets[i * num_val_samples: (i + 1) * num_val_samples]\n",
    "    \n",
    "    partial_train_data = np.concatenate([train_data[:i * num_val_samples],\n",
    "                                         train_data[(i + 1) * num_val_samples:]],\n",
    "                                         axis=0)\n",
    "    partial_train_targets = np.concatenate( [train_targets[:i * num_val_samples], \n",
    "                                             train_targets[(i + 1) * num_val_samples:]],\n",
    "                                             axis=0)\n",
    "    model = build_model()\n",
    "    model.fit(partial_train_data, partial_train_targets, epochs=num_epochs, batch_size=1, verbose=0)\n",
    "    val_mse, val_mae = model.evaluate(val_data, val_targets, verbose=1)\n",
    "    all_scores.append(val_mae)"
   ]
  },
  {
   "cell_type": "code",
   "execution_count": 111,
   "metadata": {},
   "outputs": [
    {
     "data": {
      "text/plain": [
       "[2.2365968132963276,\n",
       " 2.391238755518847,\n",
       " 2.4638840207959167,\n",
       " 2.6779959071980843,\n",
       " 2.093541348334586,\n",
       " 2.6171908378601074,\n",
       " 2.596727420788,\n",
       " 2.529279900069284]"
      ]
     },
     "execution_count": 111,
     "metadata": {},
     "output_type": "execute_result"
    }
   ],
   "source": [
    "all_scores"
   ]
  },
  {
   "cell_type": "code",
   "execution_count": 112,
   "metadata": {},
   "outputs": [
    {
     "data": {
      "text/plain": [
       "2.450806875482644"
      ]
     },
     "execution_count": 112,
     "metadata": {},
     "output_type": "execute_result"
    }
   ],
   "source": [
    "np.mean(all_scores)"
   ]
  },
  {
   "cell_type": "code",
   "execution_count": null,
   "metadata": {},
   "outputs": [],
   "source": []
  }
 ],
 "metadata": {
  "kernelspec": {
   "display_name": "Python 3",
   "language": "python",
   "name": "python3"
  },
  "language_info": {
   "codemirror_mode": {
    "name": "ipython",
    "version": 3
   },
   "file_extension": ".py",
   "mimetype": "text/x-python",
   "name": "python",
   "nbconvert_exporter": "python",
   "pygments_lexer": "ipython3",
   "version": "3.5.5"
  }
 },
 "nbformat": 4,
 "nbformat_minor": 2
}
